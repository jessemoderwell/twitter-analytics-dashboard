{
 "cells": [
  {
   "cell_type": "code",
   "execution_count": null,
   "id": "bc1a7766-82b2-4019-abc2-0e1135dc465d",
   "metadata": {
    "execution": {
     "iopub.execute_input": "2022-08-24T02:34:58.500973Z",
     "iopub.status.busy": "2022-08-24T02:34:58.500741Z",
     "iopub.status.idle": "2022-08-24T02:34:58.565577Z",
     "shell.execute_reply": "2022-08-24T02:34:58.564743Z",
     "shell.execute_reply.started": "2022-08-24T02:34:58.500948Z"
    },
    "tags": [],
    "vscode": {
     "languageId": "json"
    }
   },
   "outputs": [],
   "source": [
    "from tweepy import Client\n",
    "import tweepy\n",
    "import pandas as pd\n",
    "import re\n",
    "import pyspark.sql.functions as f\n",
    "from pyspark.sql.types import StructType, IntegerType, TimestampType, StringType, DoubleType, LongType\n",
    "from vaderSentiment.vaderSentiment import SentimentIntensityAnalyzer\n",
    "from textblob import TextBlob\n",
    "from wordcloud import WordCloud\n",
    "import matplotlib.pyplot as plt"
   ]
  },
  {
   "cell_type": "markdown",
   "id": "eeed7dba",
   "metadata": {},
   "source": [
    "### Get Twitter API data, using search by keyword, and put into PySpark DataFrame"
   ]
  },
  {
   "cell_type": "code",
   "execution_count": null,
   "id": "fb2a1789",
   "metadata": {},
   "outputs": [],
   "source": [
    "bearer_token = 'AAAAAAAAAAAAAAAAAAAAADC8gAEAAAAAOK4Ejw4HBJ0oJ3WgJnVCMxk2diI%3DjuAuhQzeP3qUoT3LJa1V8fU5eKz1xkiApHLKSPSM3ByqWbJqvu'"
   ]
  },
  {
   "cell_type": "code",
   "execution_count": null,
   "id": "75efc106-8f97-4fdc-ad99-1c8c3ea54e64",
   "metadata": {
    "execution": {
     "iopub.execute_input": "2022-08-22T18:48:13.262062Z",
     "iopub.status.busy": "2022-08-22T18:48:13.261887Z",
     "iopub.status.idle": "2022-08-22T18:48:13.371937Z",
     "shell.execute_reply": "2022-08-22T18:48:13.371117Z",
     "shell.execute_reply.started": "2022-08-22T18:48:13.262040Z"
    },
    "tags": [],
    "vscode": {
     "languageId": "json"
    }
   },
   "outputs": [],
   "source": [
    "#getting recent tweets data\n",
    "def getTweets():\n",
    "    #asking for the search term and the desired number of tweets\n",
    "    keyword = 'Lexus'\n",
    "    query = f'{keyword} -is:retweet lang:en'\n",
    "    #Twitter API will cap after a certain number, you may not get num_tweets results\n",
    "    num_tweets = 100000\n",
    "    #connecting to the twitter API using clent and the bearer_token credentials from config.py\n",
    "    client = Client('{}'.format(bearer_token))\n",
    "\n",
    "    #using tweepy paginator to get over 100 last tweets from twitter api\n",
    "    tweets = []\n",
    "    for tweet in tweepy.Paginator(client.search_recent_tweets,\n",
    "                                    query = query,                             \n",
    "                                    tweet_fields = ['id','created_at', 'public_metrics', 'text', 'source', 'geo'],\n",
    "                                    max_results = 100).flatten(limit=num_tweets):\n",
    "    \n",
    "        tweets.append(tweet)\n",
    "    return tweets\n",
    "\n",
    "\n",
    "#function to clean the tweets and load them into a DataFrame\n",
    "def tweetsETL(tweets):\n",
    "    \n",
    "    result = []\n",
    "    #regex function to clean the tweet text from haashtags, mentions and links\n",
    "    def cleanTweets(text):\n",
    "        clean_text = ' '.join(re.sub(\"(@[A-Za-z0-9]+)|([^0-9A-Za-z \\t])|(\\w+:\\/\\/\\S+)\",\" \",text).split())\n",
    "        return clean_text\n",
    "    \n",
    "    #function to unpack the tweets list into a dataframe\n",
    "    for tweet in tweets:\n",
    "            result.append({'id': tweet.id,\n",
    "                           'text': tweet.text,\n",
    "                           'clean_tweet' : cleanTweets(tweet.text),\n",
    "                           'created_at': tweet.created_at,\n",
    "                           'source':tweet.source,\n",
    "                           'lat':tweet.geo.get('coordinates').get('coordinates')[1] if tweet.geo and tweet.geo.get('coordinates') else None,\n",
    "                           'long':tweet.geo.get('coordinates').get('coordinates')[0] if tweet.geo and tweet.geo.get('coordinates') else None,\n",
    "                           'retweets': tweet.public_metrics['retweet_count'],\n",
    "                           'replies': tweet.public_metrics['reply_count'],\n",
    "                           'likes': tweet.public_metrics['like_count']\n",
    "                      })\n",
    "\n",
    "    df = spark.createDataFrame(result)\n",
    "    return df"
   ]
  },
  {
   "cell_type": "code",
   "execution_count": null,
   "id": "06744a0e-2b09-4512-880e-4c3dcb11c937",
   "metadata": {
    "execution": {
     "iopub.execute_input": "2022-08-22T18:49:42.106821Z",
     "iopub.status.busy": "2022-08-22T18:49:42.106585Z",
     "iopub.status.idle": "2022-08-22T18:50:07.514938Z",
     "shell.execute_reply": "2022-08-22T18:50:07.514339Z",
     "shell.execute_reply.started": "2022-08-22T18:49:42.106796Z"
    },
    "scrolled": true,
    "tags": [],
    "vscode": {
     "languageId": "json"
    }
   },
   "outputs": [],
   "source": [
    "df = tweetsETL(getTweets())"
   ]
  },
  {
   "cell_type": "markdown",
   "id": "e53721e0",
   "metadata": {},
   "source": [
    "### Use Vader Sentiment Analysis model to calculate sentiment score from cleaned_tweet field"
   ]
  },
  {
   "cell_type": "code",
   "execution_count": null,
   "id": "0ea5ba2c-24ee-4aed-a402-99afcec2b447",
   "metadata": {
    "execution": {
     "iopub.execute_input": "2022-08-22T18:59:03.662246Z",
     "iopub.status.busy": "2022-08-22T18:59:03.661991Z",
     "iopub.status.idle": "2022-08-22T18:59:03.734472Z",
     "shell.execute_reply": "2022-08-22T18:59:03.733696Z",
     "shell.execute_reply.started": "2022-08-22T18:59:03.662196Z"
    },
    "tags": [],
    "vscode": {
     "languageId": "json"
    }
   },
   "outputs": [],
   "source": [
    "sid_obj = SentimentIntensityAnalyzer()\n",
    "calculate_sentiment = f.udf(lambda x:float(sid_obj.polarity_scores(x)['compound']))\n",
    "df = df.withColumn('sentiment', calculate_sentiment(df.clean_tweet))"
   ]
  },
  {
   "cell_type": "markdown",
   "id": "94758935",
   "metadata": {},
   "source": [
    "### Map sentiment score to buckets 'Very negative', 'Negative', 'Neutral', 'Positive', 'Very Positive'"
   ]
  },
  {
   "cell_type": "code",
   "execution_count": null,
   "id": "904fa684-2f6a-4d28-95f2-1da3013d5ec5",
   "metadata": {
    "execution": {
     "iopub.execute_input": "2022-08-22T18:54:49.161826Z",
     "iopub.status.busy": "2022-08-22T18:54:49.161585Z",
     "iopub.status.idle": "2022-08-22T18:54:49.228852Z",
     "shell.execute_reply": "2022-08-22T18:54:49.228271Z",
     "shell.execute_reply.started": "2022-08-22T18:54:49.161802Z"
    },
    "vscode": {
     "languageId": "json"
    }
   },
   "outputs": [],
   "source": [
    "@f.udf\n",
    "def sentiment_to_discrete(sentiment):\n",
    "    if sentiment > 0:\n",
    "        if sentiment >= .5:\n",
    "            return 'Very positive'\n",
    "        else:\n",
    "            return 'Positive'\n",
    "    elif sentiment < 0:\n",
    "        if sentiment <= -.5:\n",
    "            return 'Very negative'\n",
    "        else:\n",
    "            return 'Negative'\n",
    "    else:\n",
    "        return 'Neutral'"
   ]
  },
  {
   "cell_type": "code",
   "execution_count": null,
   "id": "7e26c2b9-b150-426f-b3bf-07b37bfd8474",
   "metadata": {
    "execution": {
     "iopub.execute_input": "2022-08-22T18:56:08.065816Z",
     "iopub.status.busy": "2022-08-22T18:56:08.065581Z",
     "iopub.status.idle": "2022-08-22T18:56:08.343632Z",
     "shell.execute_reply": "2022-08-22T18:56:08.342887Z",
     "shell.execute_reply.started": "2022-08-22T18:56:08.065791Z"
    },
    "vscode": {
     "languageId": "json"
    }
   },
   "outputs": [],
   "source": [
    "df = df.withColumn('discrete_sentiment', sentiment_to_discrete(df.sentiment))"
   ]
  },
  {
   "cell_type": "markdown",
   "id": "765b85cf",
   "metadata": {},
   "source": [
    "### Create word cloud with buckets of sentiment score"
   ]
  },
  {
   "cell_type": "code",
   "execution_count": null,
   "id": "23a6d1f0-4fba-4fc4-85f4-0561b6fc9abb",
   "metadata": {
    "execution": {
     "iopub.execute_input": "2022-08-24T02:33:48.509540Z",
     "iopub.status.busy": "2022-08-24T02:33:48.509267Z",
     "iopub.status.idle": "2022-08-24T02:33:48.581178Z",
     "shell.execute_reply": "2022-08-24T02:33:48.580589Z",
     "shell.execute_reply.started": "2022-08-24T02:33:48.509513Z"
    },
    "tags": [],
    "vscode": {
     "languageId": "json"
    }
   },
   "outputs": [],
   "source": [
    "def creatWordCloud(df,clm_name):\n",
    "    text = \" \".join(line for line in df[clm_name])\n",
    "    # Create the wordcloud object\n",
    "    wordcloud = WordCloud(width=980, height=580, margin=0,collocations = False, background_color = 'white').generate(text)\n",
    "    # Display the generated image:\n",
    "    plt.figure(figsize=(12,5))\n",
    "    plt.imshow(wordcloud, interpolation='bilinear')\n",
    "    plt.axis(\"off\")\n",
    "    plt.margins(x=0, y=0)\n",
    "    plt.show()\n",
    "    return plt "
   ]
  },
  {
   "cell_type": "markdown",
   "id": "bf17d31d",
   "metadata": {
    "execution": {
     "iopub.execute_input": "2022-08-24T02:45:49.575165Z",
     "iopub.status.busy": "2022-08-24T02:45:49.574935Z",
     "iopub.status.idle": "2022-08-24T02:45:49.634477Z",
     "shell.execute_reply": "2022-08-24T02:45:49.633751Z",
     "shell.execute_reply.started": "2022-08-24T02:45:49.575141Z"
    },
    "tags": [],
    "vscode": {
     "languageId": "json"
    }
   },
   "source": [
    "def sentimentWordcloud(df):\n",
    "    print(\"We generate Wordclouds for each sentiment to see the words that appear most often for each one :\")\n",
    "    print(\"_________________________________________________________________________________________________\")\n",
    "    print('Wordcloud for negative sentiment tweets : ')\n",
    "    creatWordCloud(df.query('discrete_sentiment in (\"Negative\", \"Very Negative\")'), 'clean_tweet')\n",
    "    print('Wordcloud for neutral sentiment tweets : ')\n",
    "    creatWordCloud(df.query('discrete_sentiment == \"Neutral\"'), 'clean_tweet')\n",
    "    print('Wordcloud for positive sentiment tweets : ')\n",
    "    creatWordCloud(df.query('discrete_sentiment in (\"Positive\", \"Very positive\")'), 'clean_tweet')"
   ]
  },
  {
   "cell_type": "code",
   "execution_count": null,
   "id": "83a54e6d-4a16-4d8a-bedc-8578b7ec935b",
   "metadata": {
    "execution": {
     "iopub.execute_input": "2022-08-24T02:45:56.367632Z",
     "iopub.status.busy": "2022-08-24T02:45:56.367402Z",
     "iopub.status.idle": "2022-08-24T02:45:57.641969Z",
     "shell.execute_reply": "2022-08-24T02:45:57.641230Z",
     "shell.execute_reply.started": "2022-08-24T02:45:56.367607Z"
    },
    "scrolled": false,
    "tags": [],
    "vscode": {
     "languageId": "json"
    }
   },
   "outputs": [],
   "source": [
    "sentimentWordcloud(df.to_Pandas())"
   ]
  },
  {
   "cell_type": "code",
   "execution_count": null,
   "id": "926154e1-7ad4-4b7e-bc8a-53deef6b965c",
   "metadata": {
    "execution": {
     "iopub.execute_input": "2022-08-24T02:46:07.837324Z",
     "iopub.status.busy": "2022-08-24T02:46:07.837063Z",
     "iopub.status.idle": "2022-08-24T02:46:08.177385Z",
     "shell.execute_reply": "2022-08-24T02:46:08.176703Z",
     "shell.execute_reply.started": "2022-08-24T02:46:07.837270Z"
    },
    "tags": [],
    "vscode": {
     "languageId": "json"
    }
   },
   "outputs": [],
   "source": [
    "%matplot plt"
   ]
  },
  {
   "cell_type": "markdown",
   "id": "1717de93",
   "metadata": {},
   "source": [
    "### Cast sentiment column to double type"
   ]
  },
  {
   "cell_type": "code",
   "execution_count": null,
   "id": "e5e8562d-bc62-4ddd-a458-d371b40b20b5",
   "metadata": {
    "execution": {
     "iopub.execute_input": "2022-08-22T19:02:29.048693Z",
     "iopub.status.busy": "2022-08-22T19:02:29.048442Z",
     "iopub.status.idle": "2022-08-22T19:02:29.117756Z",
     "shell.execute_reply": "2022-08-22T19:02:29.116837Z",
     "shell.execute_reply.started": "2022-08-22T19:02:29.048667Z"
    },
    "tags": [],
    "vscode": {
     "languageId": "json"
    }
   },
   "outputs": [],
   "source": [
    "df = df.withColumn('sentiment', df.sentiment.cast(DoubleType()))"
   ]
  },
  {
   "cell_type": "code",
   "execution_count": null,
   "id": "e968e09e-3f25-4f52-98e3-ebbefddd9cdd",
   "metadata": {
    "execution": {
     "iopub.execute_input": "2022-08-23T21:43:39.851936Z",
     "iopub.status.busy": "2022-08-23T21:43:39.851705Z",
     "iopub.status.idle": "2022-08-23T21:43:40.139979Z",
     "shell.execute_reply": "2022-08-23T21:43:40.139284Z",
     "shell.execute_reply.started": "2022-08-23T21:43:39.851911Z"
    },
    "tags": [],
    "vscode": {
     "languageId": "json"
    }
   },
   "outputs": [],
   "source": [
    "df = df.select(f.col('clean_tweet'), f.col('created_at'), f.col('id'), f.col('lat').alias('long'), \\\n",
    "f.col('likes'), f.col('long').alias('lat'), f.col('replies'), f.col('retweets'), f.col('source'), f.col('text'), \\\n",
    "f.col('sentiment'), f.col('discrete_sentiment'))"
   ]
  },
  {
   "cell_type": "markdown",
   "id": "dfaafbe0",
   "metadata": {},
   "source": [
    "### Save to S3"
   ]
  },
  {
   "cell_type": "code",
   "execution_count": null,
   "id": "f821af2a",
   "metadata": {},
   "outputs": [],
   "source": [
    "s3_path = \"s3a://twitter-sentiment-analysis2/lexus_tweets.parquet\""
   ]
  },
  {
   "cell_type": "code",
   "execution_count": null,
   "id": "d8e26f23-949c-4d48-9ba2-5997c4b069c2",
   "metadata": {
    "execution": {
     "iopub.execute_input": "2022-08-23T21:43:52.699810Z",
     "iopub.status.busy": "2022-08-23T21:43:52.699532Z",
     "iopub.status.idle": "2022-08-23T21:43:58.043540Z",
     "shell.execute_reply": "2022-08-23T21:43:58.042822Z",
     "shell.execute_reply.started": "2022-08-23T21:43:52.699782Z"
    },
    "tags": [],
    "vscode": {
     "languageId": "json"
    }
   },
   "outputs": [],
   "source": [
    "df.write.mode('overwrite').parquet(s3_path) "
   ]
  }
 ],
 "metadata": {
  "kernelspec": {
   "display_name": "Python 3",
   "language": "python",
   "name": "python3"
  },
  "language_info": {
   "codemirror_mode": {
    "name": "ipython",
    "version": 3
   },
   "file_extension": ".py",
   "mimetype": "text/x-python",
   "name": "python",
   "nbconvert_exporter": "python",
   "pygments_lexer": "ipython3",
   "version": "3.8.8"
  }
 },
 "nbformat": 4,
 "nbformat_minor": 5
}
